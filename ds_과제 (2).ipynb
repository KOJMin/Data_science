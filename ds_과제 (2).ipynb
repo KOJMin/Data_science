{
 "cells": [
  {
   "cell_type": "markdown",
   "id": "cc7865d5",
   "metadata": {},
   "source": [
    "# 데이터사이언스 개론 과제\n",
    "\n",
    "## 202102683 루마니아어과 이조민"
   ]
  },
  {
   "cell_type": "code",
   "execution_count": 2,
   "id": "ab1a9a53",
   "metadata": {},
   "outputs": [
    {
     "ename": "IndentationError",
     "evalue": "expected an indented block after function definition on line 41 (2562257181.py, line 44)",
     "output_type": "error",
     "traceback": [
      "\u001b[1;36m  Cell \u001b[1;32mIn[2], line 44\u001b[1;36m\u001b[0m\n\u001b[1;33m    if self.num_of_data == 0:\u001b[0m\n\u001b[1;37m    ^\u001b[0m\n\u001b[1;31mIndentationError\u001b[0m\u001b[1;31m:\u001b[0m expected an indented block after function definition on line 41\n"
     ]
    }
   ],
   "source": [
    "# Node 클래스 정의\n",
    "class Node:\n",
    "    def __init__(self, data):\n",
    "       self.data = data\n",
    "       self.next = None\n",
    "# LinkedList 클래스 정의\n",
    "class LinkedList:\n",
    "\n",
    "    # 초기화 메소드\n",
    "    def __init__(self):\n",
    "        dummy = Node(\"dummy\")\n",
    "        self.head = dummy\n",
    "        self.tail = dummy\n",
    "        self.current = None\n",
    "        self.before = None\n",
    "        self.num_of_data = 0\n",
    "   # append 메소드 (insert - 맨 뒤에 노드 추가, tail과 node의 next, 데이터 개수 변경)\n",
    "    def append(self, data):\n",
    "        new_node = Node(data)\n",
    "        self.tail.next = new_node\n",
    "        self.tail = new_node\n",
    "        \n",
    "        self.num_of_data += 1\n",
    "\n",
    "    # delete 메소드 (delete - current 노드 삭제, 인접 노드의 current, next 변경, 데이터 개수 변경)\n",
    "    def delete(self):\n",
    "        pop_data = self.current.data\n",
    "\n",
    "    if self.current is self.tail:\n",
    "        self.tail = self.before\n",
    "\n",
    "    # 중요 : current가 next가 아닌 before로 변경된다.\n",
    "    self.before.next = self.current.next\n",
    "    self.current = self.before \n",
    "\n",
    "    self.num_of_data -= 1\n",
    "\n",
    "    return pop_data\n",
    "\n",
    "   # first 메소드 (search1 - 맨 앞의 노드 검색, before, current 변경)\n",
    "    def first(self):\n",
    "        \n",
    "   # 데이터가 없는 경우 첫번째 노드도 없기 때문에 None 리턴\n",
    "    if self.num_of_data == 0: \n",
    "        return None\n",
    "\n",
    "    self.before = self.head\n",
    "    self.current = self.head.next\n",
    "\n",
    "    return self.current.data\n",
    "\n",
    "   # next 메소드 (search2 - current 노드의 다음 노드 검색, 이전에 first 메소드가 한번은 실행되어야 함)\n",
    "    def next(self):\n",
    "    if self.current.next == None:\n",
    "        return None\n",
    "\n",
    "    self.before = self.current\n",
    "    self.current = self.current.next\n",
    "\n",
    "        return self.current.data\n",
    "\n",
    "   # size 메소드\n",
    "    def size(self):\n",
    "    return self.num_of_data\n",
    "\n",
    "\n",
    "    # traverse_all 메소드\n",
    "    def traverse_all(self):\n",
    "        curr_node = self.head\n",
    "        while curr_node != None:\n",
    "            print(\"({}) -> \".format(curr_node.data), end=\"\")\n",
    "            curr_node = curr_node.next\n",
    "        print(\"null\")\n",
    "        \n",
    "# LinkedList 객체 생성\n",
    "my_list = LinkedList()\n",
    "# 노드 추가\n",
    "my_list.append(100)\n",
    "my_list.append(72)\n",
    "my_list.append(325)\n",
    "# 리스트 출력\n",
    "my_list.traverse_all()\n"
   ]
  }
 ],
 "metadata": {
  "kernelspec": {
   "display_name": "Python 3 (ipykernel)",
   "language": "python",
   "name": "python3"
  },
  "language_info": {
   "codemirror_mode": {
    "name": "ipython",
    "version": 3
   },
   "file_extension": ".py",
   "mimetype": "text/x-python",
   "name": "python",
   "nbconvert_exporter": "python",
   "pygments_lexer": "ipython3",
   "version": "3.10.9"
  }
 },
 "nbformat": 4,
 "nbformat_minor": 5
}
