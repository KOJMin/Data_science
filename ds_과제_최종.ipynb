{
 "cells": [
  {
   "cell_type": "markdown",
   "id": "1a117f51",
   "metadata": {},
   "source": [
    "# 데이터사이언스 개론 과제\n",
    "\n",
    "## 202102683 루마니아어과 이조민"
   ]
  },
  {
   "cell_type": "code",
   "execution_count": 1,
   "id": "d4fac2c7",
   "metadata": {},
   "outputs": [],
   "source": [
    "# Node 클래스 정의\n",
    "class Node:\n",
    "    def __init__(self, data):\n",
    "       self.data = data\n",
    "       self.next = None\n",
    "# LinkedList 클래스 정의\n",
    "class LinkedList:\n",
    "\n",
    "    # 초기화 메소드\n",
    "    def __init__(self):\n",
    "        dummy = Node(\"dummy\")\n",
    "        self.head = dummy\n",
    "        self.tail = dummy\n",
    "        self.current = None\n",
    "        self.before = None\n",
    "        self.num_of_data = 0\n",
    "   # append 메소드 (insert - 맨 뒤에 노드 추가, tail과 node의 next, 데이터 개수 변경)\n",
    "    def append(self, data):\n",
    "        new_node = Node(data)\n",
    "        self.tail.next = new_node\n",
    "        self.tail = new_node\n",
    "\n",
    "        self.num_of_data += 1\n",
    "    #delete 메소드 (delete - current 노드 삭제, 인접 노드의 current, next 변경, 데이터 개수 변경)\n",
    "    def delete(self):\n",
    "        pop_data = self.current.data\n",
    "        \n",
    "        if self.current is self.tail:\n",
    "            self.tail = self.before\n",
    "            \n",
    "            # 중요 : current가 next가 아닌 before로 변경된다.\n",
    "            self.before.next = self.current.next\n",
    "            self.current = self.before\n",
    "            \n",
    "            self.num_of_data -= 1\n",
    "            \n",
    "            return pop_data\n",
    "    # first 메소드 (search1 - 맨 앞의 노드 검색, before, current 변경)\n",
    "    def first(self):\n",
    "        # 데이터가 없는 경우 첫번째 노드도 없기 때문에 None 리턴\n",
    "        if self.num_of_data == 0:\n",
    "            return None\n",
    "        \n",
    "        self.before = self.head\n",
    "        self.current = self.head.next\n",
    "        \n",
    "        return self.current.data\n",
    "    \n",
    "    # next 메소드 (search2 - current 노드의 다음 노드 검색, 이전에 first 메소드가 한번은 실행되어야 함)\n",
    "    def next(self):\n",
    "        if self.current.next == None:\n",
    "            return None\n",
    "        \n",
    "        self.before = self.current\n",
    "        self.current = self.current.next\n",
    "        \n",
    "        return self.current.data\n",
    "    \n",
    "    # size 메소드\n",
    "    def size(self):\n",
    "        return self.num_of_data\n",
    "\n",
    "    # traverse_all 메소드\n",
    "    def traverse_all(self):\n",
    "        curr_node = self.head.next\n",
    "        print(\"head -> \", end=\"\")\n",
    "        while curr_node != None:\n",
    "            print(\"({}) -> \".format(curr_node.data), end=\"\")\n",
    "            curr_node = curr_node.next\n",
    "        print(\"null\")\n",
    "        \n",
    "    def insert_at(self, position ,new_data):\n",
    "            if new_data == 0:\n",
    "                new_data = str(new_data)\n",
    "            new_node = Node(new_data)\n",
    "            current_node = self.head.next\n",
    "            current_position = 1\n",
    "            previous_node = self.head\n",
    "\n",
    "            \n",
    "            if position <= 0:\n",
    "                print(\"error\")\n",
    "                return\n",
    "\n",
    "            if position > self.num_of_data:\n",
    "                position = self.num_of_data + 1\n",
    "\n",
    "                while current_position < position:\n",
    "                    previous_node = current_node\n",
    "                    current_node = current_node.next\n",
    "                    current_position += 1\n",
    "        \n",
    "            while current_position < position:\n",
    "                previous_node = current_node\n",
    "                current_node = current_node.next\n",
    "                current_position += 1\n",
    "\n",
    "            if current_node is None:\n",
    "                self.tail = new_node\n",
    "\n",
    "            previous_node.next = new_node\n",
    "            new_node.next = current_node\n",
    "            self.num_of_data += 1\n",
    "        \n",
    "    def remove(self, key):\n",
    "            previous_node = None\n",
    "            self.current = self.head\n",
    "            position = 0\n",
    "            while self.current != None:\n",
    "                \n",
    "                if self.current.data == key:\n",
    "                    \n",
    "                    if previous_node != None:\n",
    "                        previous_node.next = self.current.next\n",
    "                        print(\"%d 번째 원소 %d를 삭제합니다.\" %(position, key))\n",
    "                        \n",
    "                    else:\n",
    "                        self.head = self.current.next\n",
    "                        print(\"%d 번째 원소 %d를 삭제합니다.\" %(position, key))\n",
    "                    self.current = self.current.next\n",
    "                else:\n",
    "                    previous_node = self.current\n",
    "                    self.current = self.current.next\n",
    "                position += 1\n",
    "            print(\"* 해당하는 원소가 없습니다.\")"
   ]
  },
  {
   "cell_type": "markdown",
   "id": "cd960149",
   "metadata": {},
   "source": [
    "    # traverse_all 메소드\n",
    "    def traverse_all(self):\n",
    "        curr_node = self.head.next\n",
    "        print(\"head -> \", end=\"\")\n",
    "        while curr_node != None:\n",
    "            print(\"({}) -> \".format(curr_node.data), end=\"\")\n",
    "            curr_node = curr_node.next\n",
    "        print(\"null\")"
   ]
  },
  {
   "cell_type": "markdown",
   "id": "b8f93279",
   "metadata": {},
   "source": [
    "### 이 코드는 연결 리스트(Linked List)의 모든 원소를 순회하는 traverse_all() 메소드입니다.\n",
    "- self.head의 다음 노드인 self.head.next를 현재 노드를 나타내는 curr_node에 할당합니다.\n",
    "- while 루프를 통해 연결 리스트를 순회합니다. curr_node가 None이 아닐 때까지 반복합니다.\n",
    "- 현재 노드의 데이터인 curr_node.data를 출력하여 현재 노드의 값을 표시합니다.\n",
    "- 현재 노드의 다음 노드로 이동합니다.\n",
    "- 위의 단계를 반복하여 연결 리스트의 모든 노드를 출력합니다.\n",
    "- 마지막으로 \"null\"이라는 문자열을 출력하여 연결 리스트의 끝을 나타냅니다."
   ]
  },
  {
   "cell_type": "markdown",
   "id": "e865deea",
   "metadata": {},
   "source": [
    "    def remove(self, key):\n",
    "            previous_node = None\n",
    "            self.current = self.head\n",
    "            position = 0\n",
    "            while self.current != None:\n",
    "                \n",
    "                if self.current.data == key:\n",
    "                    \n",
    "                    if previous_node != None:\n",
    "                        previous_node.next = self.current.next\n",
    "                        print(\"%d 번째 원소 %d를 삭제합니다.\" %(position, key))\n",
    "                        \n",
    "                    else:\n",
    "                        self.head = self.current.next\n",
    "                        print(\"%d 번째 원소 %d를 삭제합니다.\" %(position, key))\n",
    "                    self.current = self.current.next\n",
    "                else:\n",
    "                    previous_node = self.current\n",
    "                    self.current = self.current.next\n",
    "                position += 1\n",
    "            print(\"* 해당하는 원소가 없습니다.\")"
   ]
  },
  {
   "cell_type": "markdown",
   "id": "03b9d624",
   "metadata": {},
   "source": [
    "### 이 코드는 연결 리스트에서 특정 원소를 삭제하는 remove() 메소드입니다. 코드는 다음과 같이 동작합니다\n",
    "- key와 같은 값을 가진 원소를 찾습니다.\n",
    "- 이전 노드의 next 포인터를 현재 노드의 next로 설정하여 현재 노드를 삭제합니다.\n",
    "- 만약 삭제할 원소가 연결 리스트의 처음 노드라면, self.head를 현재 노드의 next로 설정하여 연결 리스트의 처음을 변경합니다.\n",
    "- 해당 원소를 찾지 못한 경우, \"* 해당하는 원소가 없습니다.\" 라는 메시지를 출력합니다.\n",
    "- 이 코드는 연결 리스트에서 특정 원소를 삭제하는 기본적인 방법을 구현한 것이므로, 삭제하려는 원소의 위치나 기타 예외 처리 등에 따라 추가적인 수정이 필요할 수 있습니다."
   ]
  },
  {
   "cell_type": "markdown",
   "id": "9b9be154",
   "metadata": {},
   "source": [
    "    def insert(self, position ,new_data):\n",
    "            if new_data == 0:\n",
    "                new_data = str(new_data)\n",
    "            new_node = Node(new_data)\n",
    "            current_node = self.head.next\n",
    "            current_position = 1\n",
    "            previous_node = self.head\n",
    "\n",
    "            \n",
    "            if position <= 0:\n",
    "                print(\"error\")\n",
    "                return\n",
    "\n",
    "            if position > self.num_of_data:\n",
    "                position = self.num_of_data + 1\n",
    "\n",
    "                while current_position < position:\n",
    "                    previous_node = current_node\n",
    "                    current_node = current_node.next\n",
    "                    current_position += 1\n",
    "        \n",
    "            while current_position < position:\n",
    "                previous_node = current_node\n",
    "                current_node = current_node.next\n",
    "                current_position += 1\n",
    "\n",
    "            if current_node is None:\n",
    "                self.tail = new_node\n",
    "\n",
    "            previous_node.next = new_node\n",
    "            new_node.next = current_node\n",
    "            self.num_of_data += 1"
   ]
  },
  {
   "cell_type": "markdown",
   "id": "a0540fb8",
   "metadata": {},
   "source": [
    "### 이 코드는 연결 리스트의 특정 위치에 새로운 노드를 삽입하는 insert() 메소드입니다.\n",
    "- new_data를 문자열로 변환합니다.\n",
    "- 새로운 노드인 new_node를 생성하고, new_data를 데이터로 설정합니다.\n",
    "- 현재 노드를 나타내는 변수인 current_node를 self.head의 다음 노드로 설정합니다.\n",
    "- 이전 노드를 나타내는 변수인 previous_node를 self.head로 설정합니다.\n",
    "- position이 0 이하인 경우, \"error\" 메시지를 출력하고 함수를 종료합니다.\n",
    "- position이 현재 리스트의 길이보다 큰 경우, position을 현재 리스트의 길이 + 1로 설정합니다.\n",
    "- position까지 루프를 돌며 previous_node와 current_node를 이동하여 삽입할 위치를 찾습니다.\n",
    "- current_node가 None인 경우, new_node이 새로운 tail 노드가 됩니다.\n",
    "- previous_node의 다음 노드를 new_node로 설정하고, new_node의 다음 노드를 current_node로 설정하여 새로운 노드를 삽입합니다.\n",
    "- self.num_of_data를 1 증가시켜 연결 리스트의 노드 개수를 업데이트합니다."
   ]
  },
  {
   "cell_type": "code",
   "execution_count": 2,
   "id": "4e11ed3d",
   "metadata": {},
   "outputs": [],
   "source": [
    "# 리스트 생성\n",
    "i_list = LinkedList()\n",
    "i_list.head = Node('dummy')\n",
    "i_list.tail = i_list.head"
   ]
  },
  {
   "cell_type": "code",
   "execution_count": 3,
   "id": "182428a2",
   "metadata": {},
   "outputs": [
    {
     "name": "stdout",
     "output_type": "stream",
     "text": [
      "head -> (100) -> (72) -> (325) -> null\n"
     ]
    }
   ],
   "source": [
    "# 노드 추가\n",
    "i_list.append(100)\n",
    "i_list.append(72)\n",
    "i_list.append(325)\n",
    "i_list.traverse_all()"
   ]
  },
  {
   "cell_type": "code",
   "execution_count": 4,
   "id": "01846c65",
   "metadata": {},
   "outputs": [
    {
     "name": "stdout",
     "output_type": "stream",
     "text": [
      "head -> (100) -> (3) -> (72) -> (325) -> null\n"
     ]
    }
   ],
   "source": [
    "# 리스트 출력\n",
    "\n",
    "i_list.insert_at(2,3)\n",
    "i_list.traverse_all()"
   ]
  },
  {
   "cell_type": "markdown",
   "id": "4eb6e4f8",
   "metadata": {},
   "source": [
    "* traverse_all()이라는 함수를 정의하여 리스트를 출력하고, insert_at()이라는 함수를 정의하여 지정한 인덱스에 값을 삽입합니다. \n",
    "* i_list라는 리스트를 생성하고, traverse_all() 함수를 통해 리스트를 출력하며, insert_at() 함수를 사용하여 인덱스 2에 값 3을 삽입합니다. \n",
    "* 간단하고 명확한 함수 호출을 통해 리스트 출력과 삽입을 처리할 수 있습니다."
   ]
  },
  {
   "cell_type": "code",
   "execution_count": 5,
   "id": "5ad4a5c3",
   "metadata": {},
   "outputs": [
    {
     "name": "stdout",
     "output_type": "stream",
     "text": [
      "3 번째 원소 72를 삭제합니다.\n",
      "* 해당하는 원소가 없습니다.\n",
      "head -> (100) -> (3) -> (325) -> null\n"
     ]
    }
   ],
   "source": [
    "i_list.remove(72)\n",
    "i_list.traverse_all()"
   ]
  },
  {
   "cell_type": "markdown",
   "id": "8e8bc0dd",
   "metadata": {},
   "source": [
    "- 이 코드는 i_list라는 이름의 연결 리스트에서 데이터 값이 72인 노드를 삭제한 후, i_list의 모든 노드를 출력하는 코드입니다. \n",
    "- remove() 메소드가 데이터 값이 72인 노드를 삭제하고, traverse_all() 메소드가 i_list의 모든 노드를 출력합니다"
   ]
  }
 ],
 "metadata": {
  "kernelspec": {
   "display_name": "Python 3 (ipykernel)",
   "language": "python",
   "name": "python3"
  },
  "language_info": {
   "codemirror_mode": {
    "name": "ipython",
    "version": 3
   },
   "file_extension": ".py",
   "mimetype": "text/x-python",
   "name": "python",
   "nbconvert_exporter": "python",
   "pygments_lexer": "ipython3",
   "version": "3.10.9"
  }
 },
 "nbformat": 4,
 "nbformat_minor": 5
}
